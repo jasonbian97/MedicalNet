{
 "cells": [
  {
   "cell_type": "code",
   "execution_count": 2,
   "metadata": {},
   "outputs": [],
   "source": [
    "\n",
    "import SimpleITK as sitk\n",
    "import os\n",
    "import shutil\n",
    "import numpy as np\n",
    "import copy\n",
    "import sklearn.model_selection\n",
    "import nibabel as nib\n",
    "from matplotlib import pyplot as plt"
   ]
  },
  {
   "cell_type": "code",
   "execution_count": 3,
   "metadata": {
    "scrolled": true
   },
   "outputs": [
    {
     "name": "stdout",
     "output_type": "stream",
     "text": [
      "process: 206_20161001_VOI.nii.gz\n",
      "process: 106_20141101_VOI.nii.gz\n",
      "process: 205_20170401_VOI.nii.gz\n",
      "process: 208_20160901_VOI.nii.gz\n",
      "process: 207_20170701_VOI.nii.gz\n",
      "process: 103_20140801_VOI.nii.gz\n",
      "process: 112_20160101_VOI.nii.gz\n",
      "process: 211_20150601_VOI.nii.gz\n",
      "process: 301_20151001_VOI.nii.gz\n",
      "process: 206_20160301_VOI.nii.gz\n",
      "process: 110_20171201_VOI.nii.gz\n",
      "process: 103_20170901_VOI.nii.gz\n",
      "process: 214_20160201_VOI.nii.gz\n",
      "process: 106_20160101_VOI.nii.gz\n",
      "process: 301_20161101_VOI.nii.gz\n",
      "process: 110_20151101_VOI.nii.gz\n",
      "process: 212_20130601_VOI.nii.gz\n",
      "process: 104_20160701_VOI.nii.gz\n",
      "process: 209_20150101_VOI.nii.gz\n",
      "process: 113_20141201_VOI.nii.gz\n",
      "process: 208_20171001_VOI.nii.gz\n",
      "process: 204_20170101_VOI.nii.gz\n",
      "process: 202_20170501_VOI.nii.gz\n",
      "process: 110_20071101v2_VOI.nii.gz\n",
      "process: 102_20110401v2_VOI.nii.gz\n",
      "process: 110_20090101v2_VOI.nii.gz\n",
      "process: 207_20160301_VOI.nii.gz\n",
      "process: 102_20120601v2_VOI.nii.gz\n",
      "process: 203_20161001_VOI.nii.gz\n",
      "process: 211_20140501_VOI.nii.gz\n",
      "process: 210_20171001_VOI.nii.gz\n",
      "process: 106_20161201_VOI.nii.gz\n",
      "process: 108_20131201_VOI.nii.gz\n",
      "process: 212_20111101_VOI.nii.gz\n",
      "process: 211_20151001_VOI.nii.gz\n",
      "process: 104_20150601_VOI.nii.gz\n",
      "process: 106_20171101_VOI.nii.gz\n",
      "process: 107_20160201_VOI.nii.gz\n",
      "process: 115_20140801_VOI.nii.gz\n",
      "process: 101_20140501_VOI.nii.gz\n",
      "process: 110_20061101v2_VOI.nii.gz\n",
      "process: 209_20160101_VOI.nii.gz\n",
      "process: 207_20160901_VOI.nii.gz\n",
      "process: 103_20150801_VOI.nii.gz\n",
      "process: 101_20170801_VOI.nii.gz\n",
      "process: 112_20141001_VOI.nii.gz\n",
      "process: 204_20170801_VOI.nii.gz\n",
      "process: 207_20171001_VOI.nii.gz\n",
      "process: 102_20140501_VOI.nii.gz\n",
      "process: 106_20151101_VOI.nii.gz\n",
      "process: 211_20130501_VOI.nii.gz\n",
      "process: 205_20170301_VOI.nii.gz\n",
      "process: 302_20150601_VOI.nii.gz\n",
      "process: 208_20160101_VOI.nii.gz\n",
      "process: 206_20171001_VOI.nii.gz\n",
      "process: 209_20140101_VOI.nii.gz\n",
      "process: 108_20171101_VOI.nii.gz\n",
      "process: 115_20151201_VOI.nii.gz\n",
      "process: 302_20121201_VOI.nii.gz\n",
      "process: 107_20140601_VOI.nii.gz\n",
      "process: 101_20120201_VOI.nii.gz\n",
      "process: 102_20100501v2_VOI.nii.gz\n",
      "process: 113_20160201_VOI.nii.gz\n",
      "process: 108_20151201_VOI.nii.gz\n",
      "process: 111_20170701v2_VOI.nii.gz\n",
      "process: 203_20160801_VOI.nii.gz\n",
      "process: 202_20161001_VOI.nii.gz\n",
      "process: 214_20151001_VOI.nii.gz\n",
      "process: 102_20151101_VOI.nii.gz\n",
      "process: 114_20170801v2_VOI.nii.gz\n",
      "process: 106_20131101_VOI.nii.gz\n",
      "process: 207_20170301_VOI.nii.gz\n",
      "process: 110_20161201v2_VOI.nii.gz\n",
      "process: 108_20121201_VOI.nii.gz\n",
      "process: 107_20120601_VOI.nii.gz\n",
      "process: 102_20170901v2_VOI.nii.gz\n",
      "process: 107_20171101_VOI.nii.gz\n",
      "process: 114_20160701_VOI.nii.gz\n",
      "process: 210_20161001_VOI.nii.gz\n",
      "process: 111_20160701_VOI.nii.gz\n",
      "process: 102_20090301v2_VOI.nii.gz\n",
      "process: 211_20160601_VOI.nii.gz\n",
      "process: 107_20130701_VOI.nii.gz\n",
      "process: 207_20150701_VOI.nii.gz\n",
      "process: 207_20160601_VOI.nii.gz\n",
      "process: 110_20051101v2_VOI.nii.gz\n"
     ]
    },
    {
     "data": {
      "image/png": "[encoded data removed]",
      "text/plain": [
       "<Figure size 432x288 with 3 Axes>"
      ]
     },
     "metadata": {
      "needs_background": "light"
     },
     "output_type": "display_data"
    },
    {
     "name": "stdout",
     "output_type": "stream",
     "text": [
      "mean size: [201.84883721 253.84883721 444.09302326]\n"
     ]
    }
   ],
   "source": [
    "img_list = os.listdir(\"../cache/NiiBiMask\")\n",
    "sizeMat = np.zeros((len(img_list),3))\n",
    "for i,name in enumerate(img_list):\n",
    "    print(\"process:\",name)\n",
    "    input_filename = os.path.join(\"../cache/NiiBiMask\",name)\n",
    "    img = nib.load(input_filename)\n",
    "    sizeMat[i,:] = img.shape\n",
    "\n",
    "fig, (ax1, ax2, ax3) = plt.subplots(1, 3)\n",
    "ax1.hist(sizeMat[:,0])\n",
    "ax1.set_title(\"Width\")\n",
    "ax2.hist(sizeMat[:,1])\n",
    "ax2.set_title(\"Height\")\n",
    "ax3.hist(sizeMat[:,2])\n",
    "ax3.set_title(\"Depth\")\n",
    "plt.savefig(\"../../results/images/dataset_stats_size.png\",dpi=300)\n",
    "\n",
    "plt.show()\n",
    "print(\"mean size:\",sizeMat.mean(axis=0))"
   ]
  },
  {
   "cell_type": "code",
   "execution_count": null,
   "metadata": {},
   "outputs": [],
   "source": [
    "img_list = os.listdir(\"../cache/NiiAnnotationRegularized\")\n",
    "total_counts = np.zeors(6,)\n",
    "np.unique(number_list, return_counts=True)\n",
    "\n",
    "\n",
    "\n",
    "\n"
   ]
  },
  {
   "cell_type": "code",
   "execution_count": null,
   "metadata": {},
   "outputs": [],
   "source": []
  },
  {
   "cell_type": "code",
   "execution_count": null,
   "metadata": {},
   "outputs": [],
   "source": []
  },
  {
   "cell_type": "code",
   "execution_count": null,
   "metadata": {},
   "outputs": [],
   "source": []
  },
  {
   "cell_type": "code",
   "execution_count": null,
   "metadata": {},
   "outputs": [],
   "source": []
  },
  {
   "cell_type": "code",
   "execution_count": null,
   "metadata": {},
   "outputs": [],
   "source": []
  },
  {
   "cell_type": "code",
   "execution_count": null,
   "metadata": {},
   "outputs": [],
   "source": []
  }
 ],
 "metadata": {
  "kernelspec": {
   "display_name": "Python 3",
   "language": "python",
   "name": "python3"
  },
  "language_info": {
   "codemirror_mode": {
    "name": "ipython",
    "version": 3
   },
   "file_extension": ".py",
   "mimetype": "text/x-python",
   "name": "python",
   "nbconvert_exporter": "python",
   "pygments_lexer": "ipython3",
   "version": "3.7.7"
  }
 },
 "nbformat": 4,
 "nbformat_minor": 1
}
